{
 "cells": [
  {
   "cell_type": "markdown",
   "metadata": {},
   "source": [
    "![](https://travis-ci.org/ZGIS/sentinel-2-id-generator.svg?branch=master) [![codecov](https://codecov.io/gh/ZGIS/sentinel-2-id-generator/branch/master/graph/badge.svg)](https://codecov.io/gh/ZGIS/sentinel-2-id-generator) [![Project Status: Concept – Minimal or no implementation has been done yet, or the repository is only intended to be a limited example, demo, or proof-of-concept.](https://www.repostatus.org/badges/latest/concept.svg)](https://www.repostatus.org/#concept)"
   ]
  },
  {
   "cell_type": "markdown",
   "metadata": {},
   "source": [
    "# Sentinel 2 id generator"
   ]
  },
  {
   "cell_type": "markdown",
   "metadata": {},
   "source": [
    "*Disclaimer: This not yet ready-to-use. Seriously ... come back later.*"
   ]
  },
  {
   "cell_type": "markdown",
   "metadata": {},
   "source": [
    "## 1. Problem\n",
    "\n",
    "There is no unique universal identifier (uuid) for Sentinel data, which is valid across all data hubs and is unique for the distinct images. Even within a data hub (e.g. the Copernicus Open Data Hub) the same image might have different uuids.\n",
    "\n",
    "To have a clean database in the EO-Compass and the data cubes, we need an id generator which generates reliably identical ids for identical images and distinct ids for distinct images. In this way, a UNIQUE constraint in the metadata table is able to prevent duplicate entries. The semantics of what identical images are is not the job of the database."
   ]
  },
  {
   "cell_type": "markdown",
   "metadata": {},
   "source": [
    "## 2. Sentinel-2 metadata structure (relevant elements)"
   ]
  },
  {
   "cell_type": "markdown",
   "metadata": {},
   "source": [
    "For the first version the granule id (according to the UTM grid) and the acquistion time will be used. The formatting is as follows according to the naming convention (https://sentinel.esa.int/web/sentinel/user-guides/sentinel-2-msi/naming-convention):"
   ]
  },
  {
   "cell_type": "code",
   "execution_count": 1,
   "metadata": {},
   "outputs": [],
   "source": [
    "#\n",
    "# Tile/Granule id / Footprint / UTM grid id\n",
    "#\n",
    "# General pattern: Txxxxx\n",
    "#\n",
    "# Example:\n",
    "#\n",
    "granule_id = 'T33UVP'\n",
    "\n",
    "#\n",
    "# Acquisition time\n",
    "#\n",
    "# General pattern: YYYYMMDDHHMMSS\n",
    "#\n",
    "# Example:\n",
    "#\n",
    "acquisition_time = '20170105T013442'"
   ]
  },
  {
   "cell_type": "markdown",
   "metadata": {},
   "source": [
    "## 3. Initial considerations\n",
    "\n",
    "There will be a (simplified) version 1 of the Sentinel-2 id generator, which is scene-based. I.e., it takes a scene name according to the UTM grid and the acquisition time. The version 2 of the Sentinel-2 id generator will work on arbitrary geographic regions."
   ]
  },
  {
   "cell_type": "markdown",
   "metadata": {},
   "source": [
    "### 3.1 Identical images \n",
    "\n",
    "When are two images identical?\n",
    "\n",
    "When they have:\n",
    "\n",
    "- the same acquisition time\n",
    "- the same footprint\n",
    "- ... tbd"
   ]
  },
  {
   "cell_type": "markdown",
   "metadata": {},
   "source": [
    "### 3.2 Image sub-sets and partially identical images\n",
    "\n",
    "It should be reflected that an image is a sub-set or partially identical with another image."
   ]
  },
  {
   "cell_type": "markdown",
   "metadata": {},
   "source": [
    "### 3.3 Image footprints\n",
    "\n",
    "It should be reflected in the id that two images have the same footprint, but were acquired at different times."
   ]
  },
  {
   "cell_type": "markdown",
   "metadata": {},
   "source": [
    "### 3.4 Acquisition time\n",
    "\n",
    "It is reasonable to expect that there is a time tolerance of a few miniutes required. For example the temporal granularity might be 5 minutes (neglecting day/night changes for simplicity)."
   ]
  },
  {
   "cell_type": "markdown",
   "metadata": {},
   "source": [
    "### 3.5 Image versions\n",
    "\n",
    "Images might be re-processed by ESA using a different software version. The version should be reflected in the id.\n"
   ]
  },
  {
   "cell_type": "markdown",
   "metadata": {},
   "source": [
    "## 4. Example / general pattern\n",
    "\n",
    "Version 1:\n",
    "\n",
    "> {granule-id}-{acquisitionyear}-{acquisitiondayofyear}-{acquisitionhour}-{acquisitiontime (minutes / 5)}\n",
    ">\n",
    "> t33uvp-2017-005-01-6\n",
    "\n",
    "Version 2 might be something like this:\n",
    "> {instrument}-{platform}-{processinglevel}-{...?}\n",
    ">\n",
    "> MSI-A-1C-...?"
   ]
  },
  {
   "cell_type": "markdown",
   "metadata": {},
   "source": [
    "## 5. Usage\n",
    "\n",
    "Use the package as follows"
   ]
  },
  {
   "cell_type": "code",
   "execution_count": 1,
   "metadata": {},
   "outputs": [
    {
     "data": {
      "text/plain": [
       "'t33uvp-2017-005-01-6'"
      ]
     },
     "execution_count": 1,
     "metadata": {},
     "output_type": "execute_result"
    }
   ],
   "source": [
    "#\n",
    "# Import the package\n",
    "#\n",
    "from s2_idgen import s2_idgen\n",
    "\n",
    "#\n",
    "# Generate a new id\n",
    "#\n",
    "id = s2_idgen.Generator(granule_id = 'T33UVP', acquisition_time = '20170105T013442')\n",
    "\n",
    "#\n",
    "# Access the id\n",
    "#\n",
    "id.getID()"
   ]
  },
  {
   "cell_type": "markdown",
   "metadata": {},
   "source": [
    "## 6. Development\n",
    "\n",
    "Clone the repository:\n",
    "\n",
    "```bash\n",
    "git clone https://github.com/ZGIS/sentinel-2-id-generator.git\n",
    "```\n",
    "\n",
    "Change working directory\n",
    "\n",
    "```bash\n",
    "cd sentinel-2-id-generator\n",
    "```\n",
    "\n",
    "Create and activate the conda environment\n",
    "\n",
    "```bash\n",
    "conda evn create -f environment.yml\n",
    "activate sentinel-tools\n",
    "```\n",
    "\n",
    "This is made for working with Jupyter Lab. You may want to install the current envionment as kernel:\n",
    "\n",
    "```bash\n",
    "ipython kernel install --user --name=<any_name_for_kernel>\n",
    "```\n",
    "\n",
    "Open Jupyter Lab (and/or perhaps your most favourite python IDE) and have fun!\n",
    "\n",
    "Do not manually edit the README.md and README.txt as they should be generated from this notebook."
   ]
  },
  {
   "cell_type": "markdown",
   "metadata": {},
   "source": [
    "## 7. Acknowledgements\n",
    "\n",
    "This python package is developed with support by the Austrian Research Promotion Agency (FFG) under the Austrian Space Application Programme (ASAP) within the project [Sen2Cube.at](http://sen2cube.at) (project no.: 866016)."
   ]
  },
  {
   "cell_type": "markdown",
   "metadata": {},
   "source": [
    "## 8. Contact\n",
    "\n",
    "If you have any questions or inquiry, please open an issue or contact one of:\n",
    "\n",
    "[Dr. Dirk Tiede](http://uni-salzburg.at/zgis/tiede)\n",
    "\n",
    "[Mr. Martin Sudmanns](http://uni-salzburg.at/zgis/sudmanns)\n",
    "\n",
    "[Ms. Hannah Augustin](http://uni-salzburg.at/zgis/augustin)"
   ]
  },
  {
   "cell_type": "code",
   "execution_count": null,
   "metadata": {},
   "outputs": [],
   "source": []
  }
 ],
 "metadata": {
  "kernelspec": {
   "display_name": "Python [conda env:sentinel-tools]",
   "language": "python",
   "name": "conda-env-sentinel-tools-py"
  },
  "language_info": {
   "codemirror_mode": {
    "name": "ipython",
    "version": 3
   },
   "file_extension": ".py",
   "mimetype": "text/x-python",
   "name": "python",
   "nbconvert_exporter": "python",
   "pygments_lexer": "ipython3",
   "version": "3.7.2"
  }
 },
 "nbformat": 4,
 "nbformat_minor": 2
}
